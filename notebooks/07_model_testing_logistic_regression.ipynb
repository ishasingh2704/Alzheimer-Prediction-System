{
 "cells": [
  {
   "cell_type": "code",
   "execution_count": 4,
   "id": "22ec21f8-ba93-41d4-ab61-f839dc3082e5",
   "metadata": {},
   "outputs": [
    {
     "name": "stdout",
     "output_type": "stream",
     "text": [
      "✅ Directories configured successfully!\n",
      "Data directory:  C:\\Users\\Isha Singh\\Desktop\\Alzheimer-Prediction-System-main\\outputs\\preprocessed\n",
      "Model directory: C:\\Users\\Isha Singh\\Desktop\\Alzheimer-Prediction-System-main\\outputs\\models\n",
      "Eval directory:  C:\\Users\\Isha Singh\\Desktop\\Alzheimer-Prediction-System-main\\outputs\\evaluation\n"
     ]
    }
   ],
   "source": [
    "# -------------------------------\n",
    "# Cell 1 — Imports and Path Setup (Corrected for your system)\n",
    "# -------------------------------\n",
    "import pandas as pd\n",
    "import joblib\n",
    "import os\n",
    "from pathlib import Path\n",
    "import matplotlib.pyplot as plt\n",
    "import seaborn as sns\n",
    "from sklearn.metrics import (\n",
    "    accuracy_score, precision_score, recall_score, f1_score,\n",
    "    roc_auc_score, confusion_matrix, classification_report, ConfusionMatrixDisplay\n",
    ")\n",
    "\n",
    "# ✅ Correct base directory for your project\n",
    "BASE_DIR = Path(r\"C:\\Users\\Isha Singh\\Desktop\\Alzheimer-Prediction-System-main\")\n",
    "\n",
    "# Define subfolders inside the project\n",
    "DATA_DIR  = BASE_DIR / \"outputs\" / \"preprocessed\"\n",
    "MODEL_DIR = BASE_DIR / \"outputs\" / \"models\"\n",
    "EVAL_DIR  = BASE_DIR / \"outputs\" / \"evaluation\"\n",
    "\n",
    "# Create evaluation folder if it doesn’t exist\n",
    "EVAL_DIR.mkdir(parents=True, exist_ok=True)\n",
    "\n",
    "print(\"✅ Directories configured successfully!\")\n",
    "print(\"Data directory: \", DATA_DIR)\n",
    "print(\"Model directory:\", MODEL_DIR)\n",
    "print(\"Eval directory: \", EVAL_DIR)\n"
   ]
  },
  {
   "cell_type": "code",
   "execution_count": 5,
   "id": "cc92226e-7f16-44f4-ada3-91c458e8f97d",
   "metadata": {},
   "outputs": [
    {
     "name": "stdout",
     "output_type": "stream",
     "text": [
      "✅ Test data loaded successfully!\n",
      "Test shape: (417, 14)\n",
      "✅ Loaded Logistic Regression model from: C:\\Users\\Isha Singh\\Desktop\\Alzheimer-Prediction-System-main\\outputs\\models\\logistic_pipeline.joblib\n"
     ]
    }
   ],
   "source": [
    "# -------------------------------\n",
    "# Cell 2 — Load Test Data & Model\n",
    "# -------------------------------\n",
    "# Load preprocessed test data\n",
    "X_test = pd.read_pickle(DATA_DIR / \"X_test.pkl\")\n",
    "y_test = pd.read_pickle(DATA_DIR / \"y_test.pkl\")\n",
    "\n",
    "print(\"✅ Test data loaded successfully!\")\n",
    "print(\"Test shape:\", X_test.shape)\n",
    "\n",
    "# Load trained Logistic Regression model\n",
    "model_path = MODEL_DIR / \"logistic_pipeline.joblib\"\n",
    "model = joblib.load(model_path)\n",
    "print(\"✅ Loaded Logistic Regression model from:\", model_path)\n"
   ]
  },
  {
   "cell_type": "code",
   "execution_count": 6,
   "id": "94ca4bc4-8b12-4ee4-a852-806dc7838f2d",
   "metadata": {},
   "outputs": [
    {
     "name": "stdout",
     "output_type": "stream",
     "text": [
      "✅ Predictions generated!\n"
     ]
    },
    {
     "data": {
      "text/html": [
       "<div>\n",
       "<style scoped>\n",
       "    .dataframe tbody tr th:only-of-type {\n",
       "        vertical-align: middle;\n",
       "    }\n",
       "\n",
       "    .dataframe tbody tr th {\n",
       "        vertical-align: top;\n",
       "    }\n",
       "\n",
       "    .dataframe thead th {\n",
       "        text-align: right;\n",
       "    }\n",
       "</style>\n",
       "<table border=\"1\" class=\"dataframe\">\n",
       "  <thead>\n",
       "    <tr style=\"text-align: right;\">\n",
       "      <th></th>\n",
       "      <th>Actual</th>\n",
       "      <th>Predicted</th>\n",
       "    </tr>\n",
       "  </thead>\n",
       "  <tbody>\n",
       "    <tr>\n",
       "      <th>0</th>\n",
       "      <td>0</td>\n",
       "      <td>1</td>\n",
       "    </tr>\n",
       "    <tr>\n",
       "      <th>1</th>\n",
       "      <td>1</td>\n",
       "      <td>1</td>\n",
       "    </tr>\n",
       "    <tr>\n",
       "      <th>2</th>\n",
       "      <td>0</td>\n",
       "      <td>1</td>\n",
       "    </tr>\n",
       "    <tr>\n",
       "      <th>3</th>\n",
       "      <td>1</td>\n",
       "      <td>1</td>\n",
       "    </tr>\n",
       "    <tr>\n",
       "      <th>4</th>\n",
       "      <td>1</td>\n",
       "      <td>1</td>\n",
       "    </tr>\n",
       "    <tr>\n",
       "      <th>5</th>\n",
       "      <td>1</td>\n",
       "      <td>0</td>\n",
       "    </tr>\n",
       "    <tr>\n",
       "      <th>6</th>\n",
       "      <td>0</td>\n",
       "      <td>0</td>\n",
       "    </tr>\n",
       "    <tr>\n",
       "      <th>7</th>\n",
       "      <td>1</td>\n",
       "      <td>1</td>\n",
       "    </tr>\n",
       "    <tr>\n",
       "      <th>8</th>\n",
       "      <td>1</td>\n",
       "      <td>1</td>\n",
       "    </tr>\n",
       "    <tr>\n",
       "      <th>9</th>\n",
       "      <td>1</td>\n",
       "      <td>1</td>\n",
       "    </tr>\n",
       "    <tr>\n",
       "      <th>10</th>\n",
       "      <td>0</td>\n",
       "      <td>0</td>\n",
       "    </tr>\n",
       "    <tr>\n",
       "      <th>11</th>\n",
       "      <td>0</td>\n",
       "      <td>0</td>\n",
       "    </tr>\n",
       "    <tr>\n",
       "      <th>12</th>\n",
       "      <td>1</td>\n",
       "      <td>1</td>\n",
       "    </tr>\n",
       "    <tr>\n",
       "      <th>13</th>\n",
       "      <td>0</td>\n",
       "      <td>1</td>\n",
       "    </tr>\n",
       "    <tr>\n",
       "      <th>14</th>\n",
       "      <td>1</td>\n",
       "      <td>1</td>\n",
       "    </tr>\n",
       "  </tbody>\n",
       "</table>\n",
       "</div>"
      ],
      "text/plain": [
       "    Actual  Predicted\n",
       "0        0          1\n",
       "1        1          1\n",
       "2        0          1\n",
       "3        1          1\n",
       "4        1          1\n",
       "5        1          0\n",
       "6        0          0\n",
       "7        1          1\n",
       "8        1          1\n",
       "9        1          1\n",
       "10       0          0\n",
       "11       0          0\n",
       "12       1          1\n",
       "13       0          1\n",
       "14       1          1"
      ]
     },
     "execution_count": 6,
     "metadata": {},
     "output_type": "execute_result"
    }
   ],
   "source": [
    "# -------------------------------\n",
    "# Cell 3 — Generate Predictions\n",
    "# -------------------------------\n",
    "# Predict class labels\n",
    "y_pred = model.predict(X_test)\n",
    "\n",
    "# Predict probabilities (for ROC/AUC)\n",
    "if hasattr(model, \"predict_proba\"):\n",
    "    y_proba = model.predict_proba(X_test)[:, 1]\n",
    "else:\n",
    "    y_proba = None\n",
    "\n",
    "# Combine actual & predicted into DataFrame\n",
    "comparison_df = pd.DataFrame({\n",
    "    \"Actual\": y_test,\n",
    "    \"Predicted\": y_pred\n",
    "})\n",
    "\n",
    "print(\"✅ Predictions generated!\")\n",
    "comparison_df.head(15)\n"
   ]
  },
  {
   "cell_type": "code",
   "execution_count": 7,
   "id": "a2d86f38-a8fb-4f96-8806-d19aacc19221",
   "metadata": {},
   "outputs": [
    {
     "name": "stdout",
     "output_type": "stream",
     "text": [
      "📊 Evaluation Metrics:\n",
      "\n",
      "Accuracy : 0.7937649880095923\n",
      "Precision: 0.7675438596491229\n",
      "Recall   : 0.8413461538461539\n",
      "F1 Score : 0.8027522935779816\n",
      "ROC-AUC  : 0.867891976444608\n",
      "\n",
      "Classification Report:\n",
      "\n",
      "              precision    recall  f1-score   support\n",
      "\n",
      "           0       0.83      0.75      0.78       209\n",
      "           1       0.77      0.84      0.80       208\n",
      "\n",
      "    accuracy                           0.79       417\n",
      "   macro avg       0.80      0.79      0.79       417\n",
      "weighted avg       0.80      0.79      0.79       417\n",
      "\n"
     ]
    }
   ],
   "source": [
    "# -------------------------------\n",
    "# Cell 4 — Evaluation Metrics\n",
    "# -------------------------------\n",
    "print(\"📊 Evaluation Metrics:\\n\")\n",
    "\n",
    "print(\"Accuracy :\",  accuracy_score(y_test, y_pred))\n",
    "print(\"Precision:\", precision_score(y_test, y_pred))\n",
    "print(\"Recall   :\", recall_score(y_test, y_pred))\n",
    "print(\"F1 Score :\", f1_score(y_test, y_pred))\n",
    "\n",
    "if y_proba is not None:\n",
    "    print(\"ROC-AUC  :\", roc_auc_score(y_test, y_proba))\n",
    "\n",
    "print(\"\\nClassification Report:\\n\")\n",
    "print(classification_report(y_test, y_pred))\n"
   ]
  },
  {
   "cell_type": "code",
   "execution_count": 8,
   "id": "69c21169-72e0-4186-83be-4bb86d8035c0",
   "metadata": {},
   "outputs": [
    {
     "data": {
      "image/png": "[encoded data removed]",
      "text/plain": [
       "<Figure size 640x480 with 2 Axes>"
      ]
     },
     "metadata": {},
     "output_type": "display_data"
    },
    {
     "name": "stdout",
     "output_type": "stream",
     "text": [
      "✅ Confusion matrix saved to: C:\\Users\\Isha Singh\\Desktop\\Alzheimer-Prediction-System-main\\outputs\\evaluation\n"
     ]
    }
   ],
   "source": [
    "# -------------------------------\n",
    "# Cell 5 — Confusion Matrix\n",
    "# -------------------------------\n",
    "cm = confusion_matrix(y_test, y_pred)\n",
    "disp = ConfusionMatrixDisplay(confusion_matrix=cm, display_labels=['No Alzheimer', 'Alzheimer'])\n",
    "disp.plot(cmap='Blues', values_format='d')\n",
    "plt.title('Logistic Regression — Confusion Matrix')\n",
    "plt.tight_layout()\n",
    "\n",
    "# Save confusion matrix image (optional)\n",
    "plt.savefig(EVAL_DIR / \"logistic_regression_confusion_matrix.png\", dpi=200)\n",
    "plt.show()\n",
    "\n",
    "print(\"✅ Confusion matrix saved to:\", EVAL_DIR)\n"
   ]
  },
  {
   "cell_type": "code",
   "execution_count": 10,
   "id": "c8369eb9-41d6-479f-8bb8-53266753745f",
   "metadata": {},
   "outputs": [
    {
     "name": "stdout",
     "output_type": "stream",
     "text": [
      "✅ Saved prediction comparison to: C:\\Users\\Isha Singh\\Desktop\\Alzheimer-Prediction-System-main\\outputs\\evaluation\\logistic_regression_predictions.csv\n",
      "✅ Saved evaluation metrics to: C:\\Users\\Isha Singh\\Desktop\\Alzheimer-Prediction-System-main\\outputs\\evaluation\\logistic_regression_metrics_summary.csv\n"
     ]
    },
    {
     "data": {
      "text/html": [
       "<div>\n",
       "<style scoped>\n",
       "    .dataframe tbody tr th:only-of-type {\n",
       "        vertical-align: middle;\n",
       "    }\n",
       "\n",
       "    .dataframe tbody tr th {\n",
       "        vertical-align: top;\n",
       "    }\n",
       "\n",
       "    .dataframe thead th {\n",
       "        text-align: right;\n",
       "    }\n",
       "</style>\n",
       "<table border=\"1\" class=\"dataframe\">\n",
       "  <thead>\n",
       "    <tr style=\"text-align: right;\">\n",
       "      <th></th>\n",
       "      <th>Model</th>\n",
       "      <th>Accuracy</th>\n",
       "      <th>Precision</th>\n",
       "      <th>Recall</th>\n",
       "      <th>F1_Score</th>\n",
       "      <th>ROC_AUC</th>\n",
       "    </tr>\n",
       "  </thead>\n",
       "  <tbody>\n",
       "    <tr>\n",
       "      <th>0</th>\n",
       "      <td>Logistic Regression</td>\n",
       "      <td>0.793765</td>\n",
       "      <td>0.767544</td>\n",
       "      <td>0.841346</td>\n",
       "      <td>0.802752</td>\n",
       "      <td>0.867892</td>\n",
       "    </tr>\n",
       "  </tbody>\n",
       "</table>\n",
       "</div>"
      ],
      "text/plain": [
       "                 Model  Accuracy  Precision    Recall  F1_Score   ROC_AUC\n",
       "0  Logistic Regression  0.793765   0.767544  0.841346  0.802752  0.867892"
      ]
     },
     "execution_count": 10,
     "metadata": {},
     "output_type": "execute_result"
    }
   ],
   "source": [
    "# -------------------------------\n",
    "# Cell 7 — Save Predictions and Metrics\n",
    "# -------------------------------\n",
    "# Save comparison DataFrame\n",
    "comparison_path = EVAL_DIR / \"logistic_regression_predictions.csv\"\n",
    "comparison_df.to_csv(comparison_path, index=False)\n",
    "print(f\"✅ Saved prediction comparison to: {comparison_path}\")\n",
    "\n",
    "# Compute & save metrics summary\n",
    "metrics_summary = {\n",
    "    \"Model\":      [\"Logistic Regression\"],\n",
    "    \"Accuracy\":   [accuracy_score(y_test, y_pred)],\n",
    "    \"Precision\":  [precision_score(y_test, y_pred)],\n",
    "    \"Recall\":     [recall_score(y_test, y_pred)],\n",
    "    \"F1_Score\":   [f1_score(y_test, y_pred)]\n",
    "}\n",
    "\n",
    "if y_proba is not None:\n",
    "    metrics_summary[\"ROC_AUC\"] = [roc_auc_score(y_test, y_proba)]\n",
    "\n",
    "metrics_df = pd.DataFrame(metrics_summary)\n",
    "metrics_path = EVAL_DIR / \"logistic_regression_metrics_summary.csv\"\n",
    "metrics_df.to_csv(metrics_path, index=False)\n",
    "\n",
    "print(f\"✅ Saved evaluation metrics to: {metrics_path}\")\n",
    "metrics_df\n"
   ]
  },
  {
   "cell_type": "code",
   "execution_count": null,
   "id": "8a3c6300-214e-456c-a6ea-e5edf92a732a",
   "metadata": {},
   "outputs": [],
   "source": []
  }
 ],
 "metadata": {
  "kernelspec": {
   "display_name": "Python 3 (ipykernel)",
   "language": "python",
   "name": "python3"
  },
  "language_info": {
   "codemirror_mode": {
    "name": "ipython",
    "version": 3
   },
   "file_extension": ".py",
   "mimetype": "text/x-python",
   "name": "python",
   "nbconvert_exporter": "python",
   "pygments_lexer": "ipython3",
   "version": "3.13.5"
  }
 },
 "nbformat": 4,
 "nbformat_minor": 5
}
