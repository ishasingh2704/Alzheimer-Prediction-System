{
 "cells": [
  {
   "cell_type": "code",
   "execution_count": 2,
   "id": "adf03dbd-f73e-408d-a643-e67673e26ac4",
   "metadata": {},
   "outputs": [
    {
     "name": "stdout",
     "output_type": "stream",
     "text": [
      "Using PREP_DIR: C:\\Users\\Isha Singh\\Desktop\\Alzheimer-Prediction-System-main\\outputs\\preprocessed\n",
      "MODELS_DIR: C:\\Users\\Isha Singh\\Desktop\\Alzheimer-Prediction-System-main\\outputs\\models\n",
      "RESULTS_DIR: C:\\Users\\Isha Singh\\Desktop\\Alzheimer-Prediction-System-main\\outputs\\model_results\n"
     ]
    }
   ],
   "source": [
    "# Cell 1 — Imports and configuration\n",
    "# If you want to use absolute Windows path, set DATA_DIR to your path string below.\n",
    "# Example: DATA_DIR = r\"D:\\Big Data Alzheimer Prediction Project\\Alzheimer-Prediction-System\\outputs\\preprocessed\"\n",
    "DATA_DIR = None\n",
    "\n",
    "import warnings\n",
    "warnings.simplefilter(\"ignore\")\n",
    "\n",
    "import os\n",
    "from pathlib import Path\n",
    "import time\n",
    "import joblib\n",
    "import pandas as pd\n",
    "import numpy as np\n",
    "import matplotlib.pyplot as plt\n",
    "\n",
    "from sklearn.linear_model import LogisticRegression\n",
    "from sklearn.model_selection import GridSearchCV, StratifiedKFold\n",
    "from sklearn.metrics import (accuracy_score, precision_score, recall_score,\n",
    "                             f1_score, roc_auc_score, confusion_matrix, classification_report, RocCurveDisplay)\n",
    "\n",
    "# Paths: if DATA_DIR provided (absolute), use it, else assume notebook is in notebooks/ and use repo-relative\n",
    "if DATA_DIR:\n",
    "    PREP_DIR = Path(DATA_DIR)\n",
    "    REPO_ROOT = PREP_DIR.parent.parent  # expect outputs/preprocessed structure\n",
    "else:\n",
    "    # when running this notebook from notebooks/ folder:\n",
    "    REPO_ROOT = Path(\"..\").resolve()\n",
    "    PREP_DIR = REPO_ROOT / \"outputs\" / \"preprocessed\"\n",
    "\n",
    "MODELS_DIR = REPO_ROOT / \"outputs\" / \"models\"\n",
    "RESULTS_DIR = REPO_ROOT / \"outputs\" / \"model_results\"\n",
    "\n",
    "MODELS_DIR.mkdir(parents=True, exist_ok=True)\n",
    "RESULTS_DIR.mkdir(parents=True, exist_ok=True)\n",
    "\n",
    "print(\"Using PREP_DIR:\", PREP_DIR)\n",
    "print(\"MODELS_DIR:\", MODELS_DIR)\n",
    "print(\"RESULTS_DIR:\", RESULTS_DIR)\n"
   ]
  },
  {
   "cell_type": "code",
   "execution_count": 3,
   "id": "0a19bfad-f89b-4d9c-8ffe-5709d569b7d8",
   "metadata": {},
   "outputs": [
    {
     "name": "stdout",
     "output_type": "stream",
     "text": [
      "Loaded datasets.\n",
      "Shapes -> train: (1944, 14) val: (417, 14) test: (417, 14)\n",
      "Train class distribution:\n",
      "1    972\n",
      "0    972\n",
      "Name: count, dtype: int64\n"
     ]
    }
   ],
   "source": [
    "# Cell 2 — Load preprocessed data (pickles)\n",
    "required_files = [\n",
    "    \"X_train.pkl\", \"X_val.pkl\", \"X_test.pkl\",\n",
    "    \"y_train.pkl\", \"y_val.pkl\", \"y_test.pkl\"\n",
    "]\n",
    "missing = [f for f in required_files if not (PREP_DIR / f).exists()]\n",
    "if missing:\n",
    "    raise FileNotFoundError(f\"Missing preprocessed files in {PREP_DIR}: {missing}\")\n",
    "\n",
    "X_train = pd.read_pickle(PREP_DIR / \"X_train.pkl\")\n",
    "X_val   = pd.read_pickle(PREP_DIR / \"X_val.pkl\")\n",
    "X_test  = pd.read_pickle(PREP_DIR / \"X_test.pkl\")\n",
    "y_train = pd.read_pickle(PREP_DIR / \"y_train.pkl\")\n",
    "y_val   = pd.read_pickle(PREP_DIR / \"y_val.pkl\")\n",
    "y_test  = pd.read_pickle(PREP_DIR / \"y_test.pkl\")\n",
    "\n",
    "print(\"Loaded datasets.\")\n",
    "print(\"Shapes -> train:\", X_train.shape, \"val:\", X_val.shape, \"test:\", X_test.shape)\n",
    "print(\"Train class distribution:\")\n",
    "print(pd.Series(y_train).value_counts())\n"
   ]
  },
  {
   "cell_type": "code",
   "execution_count": 5,
   "id": "844b7f6a-534a-40d8-acd7-720a99afdba9",
   "metadata": {},
   "outputs": [],
   "source": [
    "# Cell 3 — Evaluation helper\n",
    "def evaluate_model(model, X, y, name=\"set\"):\n",
    "    start_pred = time.time()\n",
    "    y_pred = model.predict(X)\n",
    "    end_pred = time.time()\n",
    "    metrics = {\n",
    "        \"accuracy\": float(accuracy_score(y, y_pred)),\n",
    "        \"precision\": float(precision_score(y, y_pred, average=\"binary\" if len(np.unique(y))==2 else \"macro\", zero_division=0)),\n",
    "        \"recall\": float(recall_score(y, y_pred, average=\"binary\" if len(np.unique(y))==2 else \"macro\", zero_division=0)),\n",
    "        \"f1\": float(f1_score(y, y_pred, average=\"binary\" if len(np.unique(y))==2 else \"macro\", zero_division=0)),\n",
    "        \"prediction_time_s\": float(end_pred - start_pred)\n",
    "    }\n",
    "    # Add ROC-AUC for binary (use probabilities)\n",
    "    if hasattr(model, \"predict_proba\") and len(np.unique(y)) == 2:\n",
    "        try:\n",
    "            proba = model.predict_proba(X)[:, 1]\n",
    "            metrics[\"roc_auc\"] = float(roc_auc_score(y, proba))\n",
    "        except Exception:\n",
    "            metrics[\"roc_auc\"] = None\n",
    "    print(f\"\\n{name} evaluation:\")\n",
    "    for k, v in metrics.items():\n",
    "        print(f\"  {k}: {v}\")\n",
    "    print(\"\\nClassification report:\\n\", classification_report(y, y_pred, zero_division=0))\n",
    "    return metrics, (proba if \"proba\" in locals() else None)\n"
   ]
  },
  {
   "cell_type": "code",
   "execution_count": 6,
   "id": "394f169d-479e-42e2-8a0e-0abad714d8e8",
   "metadata": {},
   "outputs": [
    {
     "name": "stdout",
     "output_type": "stream",
     "text": [
      "GridSearch scoring: f1\n",
      "Fitting 5 folds for each of 16 candidates, totalling 80 fits\n",
      "\n",
      "Grid search done.\n",
      "Best params: {'C': 1, 'class_weight': None, 'penalty': 'l1'}\n",
      "Best CV score: 0.8023448029445619\n"
     ]
    }
   ],
   "source": [
    "# Cell 4 — Configure model and run GridSearchCV (training)\n",
    "# You can change param_grid below like you did for DecisionTree.\n",
    "\n",
    "lr = LogisticRegression(max_iter=5000, solver=\"liblinear\")  # liblinear supports l1/l2\n",
    "param_grid = {\n",
    "    \"C\": [0.01, 0.1, 1, 10],\n",
    "    \"penalty\": [\"l1\", \"l2\"],\n",
    "    \"class_weight\": [None, \"balanced\"]\n",
    "}\n",
    "cv = StratifiedKFold(n_splits=5, shuffle=True, random_state=42)\n",
    "\n",
    "scoring_choice = \"f1\" if len(np.unique(y_train)) == 2 else \"accuracy\"\n",
    "print(\"GridSearch scoring:\", scoring_choice)\n",
    "\n",
    "gs = GridSearchCV(\n",
    "    lr,\n",
    "    param_grid,\n",
    "    cv=cv,\n",
    "    scoring=scoring_choice,\n",
    "    n_jobs=-1,\n",
    "    verbose=2\n",
    ")\n",
    "\n",
    "start_time = time.time()\n",
    "gs.fit(X_train, y_train)\n",
    "train_time = time.time() - start_time\n",
    "\n",
    "print(\"\\nGrid search done.\")\n",
    "print(\"Best params:\", gs.best_params_)\n",
    "print(\"Best CV score:\", gs.best_score_)\n",
    "best_model = gs.best_estimator_\n"
   ]
  },
  {
   "cell_type": "code",
   "execution_count": 7,
   "id": "ba2abfb2-d742-4007-95d5-3ef7e6c705ef",
   "metadata": {},
   "outputs": [
    {
     "name": "stdout",
     "output_type": "stream",
     "text": [
      "\n",
      "Validation evaluation:\n",
      "  accuracy: 0.8081534772182254\n",
      "  precision: 0.8\n",
      "  recall: 0.8229665071770335\n",
      "  f1: 0.8113207547169812\n",
      "  prediction_time_s: 0.003187417984008789\n",
      "  roc_auc: 0.8914243651085756\n",
      "\n",
      "Classification report:\n",
      "               precision    recall  f1-score   support\n",
      "\n",
      "           0       0.82      0.79      0.80       208\n",
      "           1       0.80      0.82      0.81       209\n",
      "\n",
      "    accuracy                           0.81       417\n",
      "   macro avg       0.81      0.81      0.81       417\n",
      "weighted avg       0.81      0.81      0.81       417\n",
      "\n",
      "\n",
      "Test evaluation:\n",
      "  accuracy: 0.7937649880095923\n",
      "  precision: 0.7675438596491229\n",
      "  recall: 0.8413461538461539\n",
      "  f1: 0.8027522935779816\n",
      "  prediction_time_s: 0.0014843940734863281\n",
      "  roc_auc: 0.867891976444608\n",
      "\n",
      "Classification report:\n",
      "               precision    recall  f1-score   support\n",
      "\n",
      "           0       0.83      0.75      0.78       209\n",
      "           1       0.77      0.84      0.80       208\n",
      "\n",
      "    accuracy                           0.79       417\n",
      "   macro avg       0.80      0.79      0.79       417\n",
      "weighted avg       0.80      0.79      0.79       417\n",
      "\n"
     ]
    },
    {
     "data": {
      "image/png": "[encoded data removed]",
      "text/plain": [
       "<Figure size 500x400 with 2 Axes>"
      ]
     },
     "metadata": {},
     "output_type": "display_data"
    },
    {
     "data": {
      "image/png": "[encoded data removed]",
      "text/plain": [
       "<Figure size 640x480 with 1 Axes>"
      ]
     },
     "metadata": {},
     "output_type": "display_data"
    }
   ],
   "source": [
    "# Cell 5 — Evaluate on validation and test sets, show confusion matrix and ROC (if binary)\n",
    "val_metrics, _ = evaluate_model(best_model, X_val, y_val, name=\"Validation\")\n",
    "test_metrics, test_proba = evaluate_model(best_model, X_test, y_test, name=\"Test\")\n",
    "\n",
    "# Confusion matrix (test)\n",
    "cm = confusion_matrix(y_test, best_model.predict(X_test))\n",
    "plt.figure(figsize=(5,4))\n",
    "plt.imshow(cm, cmap=\"Blues\", interpolation=\"nearest\")\n",
    "plt.title(\"Confusion Matrix (Test)\")\n",
    "plt.xlabel(\"Predicted\")\n",
    "plt.ylabel(\"Actual\")\n",
    "for (i, j), v in np.ndenumerate(cm):\n",
    "    plt.text(j, i, int(v), ha=\"center\", va=\"center\", color=\"black\")\n",
    "plt.colorbar()\n",
    "plt.tight_layout()\n",
    "plt.show()\n",
    "\n",
    "# ROC curve for binary\n",
    "if hasattr(best_model, \"predict_proba\") and len(np.unique(y_test))==2:\n",
    "    RocCurveDisplay.from_estimator(best_model, X_test, y_test)\n",
    "    plt.title(\"ROC Curve (Test)\")\n",
    "    plt.show()\n"
   ]
  },
  {
   "cell_type": "code",
   "execution_count": 8,
   "id": "c4794280-d858-42f8-8337-705aa46e53b3",
   "metadata": {},
   "outputs": [
    {
     "name": "stdout",
     "output_type": "stream",
     "text": [
      "Saved model to: C:\\Users\\Isha Singh\\Desktop\\Alzheimer-Prediction-System-main\\outputs\\models\\logistic_pipeline.joblib\n",
      "Saved coefficients CSV.\n",
      "Saved metrics summary and CSV.\n",
      "Saved confusion matrix image to results.\n"
     ]
    }
   ],
   "source": [
    "# Cell 6 — Save artifacts: model, coefficients, summary JSON/CSV, confusion image\n",
    "# Save model\n",
    "model_file = MODELS_DIR / \"logistic_pipeline.joblib\"\n",
    "joblib.dump(best_model, model_file)\n",
    "print(\"Saved model to:\", model_file)\n",
    "\n",
    "# Save coefficients (handle multiclass)\n",
    "try:\n",
    "    coef_arr = best_model.coef_\n",
    "    if coef_arr.ndim == 1 or coef_arr.shape[0] == 1:\n",
    "        coefs = pd.Series(coef_arr.ravel(), index=X_train.columns)\n",
    "        coefs = coefs.reindex(X_train.columns)  # ensure alignment\n",
    "        coefs = coefs.sort_values(key=lambda s: s.abs(), ascending=False)\n",
    "        coefs.to_csv(RESULTS_DIR / \"logistic_coefficients.csv\", header=[\"coefficient\"])\n",
    "        print(\"Saved coefficients CSV.\")\n",
    "    else:\n",
    "        coef_df = pd.DataFrame(coef_arr.T, index=X_train.columns)\n",
    "        try:\n",
    "            classes = best_model.classes_\n",
    "            coef_df.columns = [f\"coef_class_{c}\" for c in classes]\n",
    "        except Exception:\n",
    "            coef_df.columns = [f\"coef_class_{i}\" for i in range(coef_df.shape[1])]\n",
    "        coef_df.to_csv(RESULTS_DIR / \"logistic_coefficients_multiclass.csv\")\n",
    "        print(\"Saved multiclass coefficients CSV.\")\n",
    "except Exception as e:\n",
    "    print(\"Could not save coefficients:\", e)\n",
    "\n",
    "# Save metrics summary (JSON and CSV)\n",
    "summary = {\n",
    "    \"model\": \"LogisticRegression\",\n",
    "    \"best_params\": gs.best_params_,\n",
    "    \"grid_search_time_s\": float(train_time),\n",
    "    \"val_metrics\": val_metrics,\n",
    "    \"test_metrics\": test_metrics,\n",
    "    \"train_shape\": list(X_train.shape),\n",
    "    \"val_shape\": list(X_val.shape),\n",
    "    \"test_shape\": list(X_test.shape)\n",
    "}\n",
    "(pd.Series(summary)).to_json(RESULTS_DIR / \"logistic_training_summary.json\")\n",
    "metrics_df = pd.DataFrame([{\"split\": \"validation\", **val_metrics}, {\"split\": \"test\", **test_metrics}])\n",
    "metrics_df.to_csv(RESULTS_DIR / \"logistic_metrics_summary.csv\", index=False)\n",
    "print(\"Saved metrics summary and CSV.\")\n",
    "\n",
    "# Save confusion matrix image\n",
    "import matplotlib\n",
    "matplotlib.use(\"Agg\")  # safe save\n",
    "import matplotlib.pyplot as plt\n",
    "cm_fig = plt.figure(figsize=(5,4))\n",
    "plt.imshow(cm, cmap=\"Blues\", interpolation=\"nearest\")\n",
    "plt.title(\"Confusion Matrix (Test)\")\n",
    "plt.xlabel(\"Predicted\")\n",
    "plt.ylabel(\"Actual\")\n",
    "for (i, j), v in np.ndenumerate(cm):\n",
    "    plt.text(j, i, int(v), ha=\"center\", va=\"center\", color=\"black\")\n",
    "plt.colorbar()\n",
    "plt.tight_layout()\n",
    "plt.savefig(RESULTS_DIR / \"logistic_confusion_matrix.png\", dpi=200)\n",
    "plt.close(cm_fig)\n",
    "print(\"Saved confusion matrix image to results.\")\n"
   ]
  },
  {
   "cell_type": "code",
   "execution_count": null,
   "id": "5299c74e-0a0f-4a64-a316-2095762c1034",
   "metadata": {},
   "outputs": [],
   "source": []
  }
 ],
 "metadata": {
  "kernelspec": {
   "display_name": "Python 3 (ipykernel)",
   "language": "python",
   "name": "python3"
  },
  "language_info": {
   "codemirror_mode": {
    "name": "ipython",
    "version": 3
   },
   "file_extension": ".py",
   "mimetype": "text/x-python",
   "name": "python",
   "nbconvert_exporter": "python",
   "pygments_lexer": "ipython3",
   "version": "3.13.5"
  }
 },
 "nbformat": 4,
 "nbformat_minor": 5
}
